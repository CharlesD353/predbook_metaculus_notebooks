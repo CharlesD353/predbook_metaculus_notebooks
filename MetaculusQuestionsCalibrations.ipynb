{
 "cells": [
  {
   "cell_type": "code",
   "execution_count": 35,
   "metadata": {},
   "outputs": [],
   "source": [
    "import ergo, pandas as pd, numpy as np\n",
    "import matplotlib.pyplot as plt\n",
    "import urllib.request as urllib\n",
    "from datetime import datetime, date\n",
    "import pickle\n",
    "import time\n",
    "import warnings\n",
    "\n",
    "plt.rcParams['figure.figsize'] = [3, 2]\n",
    "warnings.filterwarnings('ignore')\n",
    "\n",
    "def openfor(qdata):\n",
    "    return (pd.to_datetime(qdata[\"close_time\"])-pd.to_datetime(qdata[\"publish_time\"])).days\n",
    "def resolvedafter(qdata):\n",
    "    return (pd.to_datetime(qdata[\"resolve_time\"])-pd.to_datetime(qdata[\"publish_time\"])).days\n",
    "def closedfor(qdata):\n",
    "    return (pd.to_datetime(qdata[\"resolve_time\"])-pd.to_datetime(qdata[\"close_time\"])).days\n",
    "def sincepub(qdata):\n",
    "    return (pd.Timestamp.today(tz=\"UTC\")-pd.to_datetime(qdata[\"publish_time\"])).days\n",
    "def getq(n):\n",
    "    with open('questions/q'+str(n)+'.p', 'rb') as fp:\n",
    "        return pickle.load(fp)\n",
    "def overconfidence(sample):\n",
    "    num=0\n",
    "    denom=0\n",
    "    for pred in sample:\n",
    "        num+=(pred-1)*(pred-.5)\n",
    "        denom+=(pred-.5)*(pred-.5)\n",
    "    return num/denom\n",
    "\n",
    "\n",
    "def resolvetime(rtime):\n",
    "    try: \n",
    "        return pd.to_datetime(datetime.strptime(rtime, '%Y-%m-%dT%H:%M:%SZ'))\n",
    "    except :\n",
    "        return pd.to_datetime(date(2100,1, 1))\n",
    "    \n",
    "def pofr(p,r):\n",
    "    if r==0.:\n",
    "        return 1-p\n",
    "    elif r==1.:\n",
    "        return p\n",
    "    else:return None\n",
    "\n",
    "    \n",
    "def EBrier(pred):\n",
    "    return pred*(1-pred)*(1-pred)+(1-pred)*pred*pred"
   ]
  },
  {
   "cell_type": "code",
   "execution_count": 3,
   "metadata": {},
   "outputs": [
    {
     "name": "stdout",
     "output_type": "stream",
     "text": [
      "Logging in to Metaculus...\n",
      "...Logged on\n"
     ]
    }
   ],
   "source": [
    "print('Logging in to Metaculus...')\n",
    "metaculus = ergo.Metaculus()\n",
    "metaculus.login_via_username_and_password(username=\"\", password=\"\")\n",
    "print('...Logged on')"
   ]
  },
  {
   "cell_type": "markdown",
   "metadata": {},
   "source": [
    "## Pull questions from metaculus and store them in pickle files along with a question catalogue - 7.2 second delay after each question is to avoid Metaculus throttling which I think is 500qs/hr\n"
   ]
  },
  {
   "cell_type": "code",
   "execution_count": 140,
   "metadata": {},
   "outputs": [],
   "source": [
    "# import ergo\n",
    "# import pickle\n",
    "# import time\n",
    "\n",
    "# print('Logging in to Metaculus...')\n",
    "# metaculus = ergo.Metaculus()\n",
    "# metaculus.login_via_username_and_password(username='', password='')\n",
    "# print('...Logged on')\n",
    "\n",
    "# # grab every Q from metaculus by iterating over the potential QIDs and dump in pickle,\n",
    "# # cataloguing the QIDs as dead, binary, or continuous - 7.2 second wait is due \n",
    "# # to metaculus API throttling of 500(?) per hour\n",
    "\n",
    "# qiddict={}\n",
    "# for i in range(7200):\n",
    "#     time.sleep(7.2)\n",
    "#     try:\n",
    "#         q = metaculus.get_question(i)\n",
    "#         qiddict[i]= q.data[\"possibilities\"][\"type\"]\n",
    "        \n",
    "\n",
    "#         with open('questions/q'+str(i)+'.p', 'wb') as fp:\n",
    "#             pickle.dump(q.data, fp, protocol=pickle.HIGHEST_PROTOCOL)\n",
    "        \n",
    "#     except:\n",
    "#         qiddict[i]= \"dead\"\n",
    "\n",
    "# with open('questions/catalogue.p', 'wb') as fp:\n",
    "#     pickle.dump(qiddict, fp, protocol=pickle.HIGHEST_PROTOCOL)\n",
    "        "
   ]
  },
  {
   "cell_type": "code",
   "execution_count": 4,
   "metadata": {},
   "outputs": [],
   "source": [
    "\n",
    "with open('questions/catalogue.p', 'rb') as fp:\n",
    "    qiddict=pickle.load(fp)"
   ]
  },
  {
   "cell_type": "code",
   "execution_count": 5,
   "metadata": {},
   "outputs": [],
   "source": [
    "qtypes=pd.Series(qiddict)"
   ]
  },
  {
   "cell_type": "code",
   "execution_count": 6,
   "metadata": {},
   "outputs": [
    {
     "data": {
      "text/plain": [
       "dead          4453\n",
       "binary        1497\n",
       "continuous    1250\n",
       "dtype: int64"
      ]
     },
     "execution_count": 6,
     "metadata": {},
     "output_type": "execute_result"
    }
   ],
   "source": [
    "qtypes.value_counts()"
   ]
  },
  {
   "cell_type": "code",
   "execution_count": 7,
   "metadata": {},
   "outputs": [],
   "source": [
    "binarycodes=list(qtypes[qtypes.values==\"binary\"].index)"
   ]
  },
  {
   "cell_type": "code",
   "execution_count": 8,
   "metadata": {},
   "outputs": [
    {
     "data": {
      "text/plain": [
       "1497"
      ]
     },
     "execution_count": 8,
     "metadata": {},
     "output_type": "execute_result"
    }
   ],
   "source": [
    "len(binarycodes)"
   ]
  },
  {
   "cell_type": "markdown",
   "metadata": {},
   "source": [
    "## Load Qs from pickle files and make dataframe of predictions"
   ]
  },
  {
   "cell_type": "code",
   "execution_count": 10,
   "metadata": {},
   "outputs": [],
   "source": [
    "\n",
    "qs={}\n",
    "for q in binarycodes:\n",
    "    with open('questions/q'+str(q)+'.p', 'rb') as fp:\n",
    "        qs[q] = pickle.load(fp)"
   ]
  },
  {
   "cell_type": "code",
   "execution_count": 11,
   "metadata": {},
   "outputs": [],
   "source": [
    "qvariances=dict()\n",
    "for i in binarycodes:\n",
    "    variances=[]\n",
    "    for sample in qs[i][\"prediction_timeseries\"]:\n",
    "        variances.append(sample[\"distribution\"][\"var\"])\n",
    "    qvariances[i]=variances\n",
    "qmeans=dict()\n",
    "for i in binarycodes:\n",
    "    means=[]\n",
    "    for sample in qs[i][\"prediction_timeseries\"]:\n",
    "        means.append(sample[\"distribution\"][\"avg\"])\n",
    "    qmeans[i]=means\n",
    "qmedians=dict()\n",
    "qfinals=dict()\n",
    "for i in binarycodes:\n",
    "    medians=[]\n",
    "    for sample in qs[i][\"prediction_timeseries\"]:\n",
    "        medians.append(sample[\"community_prediction\"])\n",
    "        last=sample[\"community_prediction\"]\n",
    "    qmedians[i]=medians\n",
    "    qfinals[i]=[last]*len(medians)\n",
    "qpredcount=dict()\n",
    "for i in binarycodes:\n",
    "    predcount=[]\n",
    "    for sample in qs[i][\"prediction_timeseries\"]:\n",
    "        predcount.append(sample[\"num_predictions\"])\n",
    "    qpredcount[i]=predcount\n",
    "qtimes=dict()\n",
    "rtimes=dict()\n",
    "for i in binarycodes:\n",
    "    times=[]\n",
    "    for sample in qs[i][\"prediction_timeseries\"]:\n",
    "        times.append(sample[\"t\"])\n",
    "    qtimes[i]=times\n"
   ]
  },
  {
   "cell_type": "code",
   "execution_count": 12,
   "metadata": {},
   "outputs": [],
   "source": [
    "frames=dict()\n",
    "for i in binarycodes:\n",
    "    frames[i]=pd.DataFrame([qtimes[i],qvariances[i],qmeans[i],qmedians[i],qpredcount[i],qfinals[i]]).T\n",
    "    frames[i].columns=[\"Time\", \"Variance\", \"Mean\", \"Median\", \"Count\", \"Final\"]\n",
    "    frames[i][\"Time\"]=frames[i][\"Time\"].apply(lambda t: datetime.fromtimestamp(t))\n",
    "    frames[i][\"QID\"]=i\n",
    "    frames[i][\"Resolve_Time\"]=qs[i][\"resolve_time\"]\n",
    "    frames[i][\"Resolution\"]=qs[i][\"resolution\"]"
   ]
  },
  {
   "cell_type": "code",
   "execution_count": 73,
   "metadata": {},
   "outputs": [],
   "source": [
    "\n",
    "#with open('questions/questiondfs.p', 'wb') as fp:\n",
    "#    pickle.dump(frames,fp)"
   ]
  },
  {
   "cell_type": "code",
   "execution_count": 13,
   "metadata": {},
   "outputs": [],
   "source": [
    "allqs=pd.concat(frames)"
   ]
  },
  {
   "cell_type": "code",
   "execution_count": 15,
   "metadata": {
    "scrolled": true
   },
   "outputs": [
    {
     "data": {
      "text/plain": [
       "array([ 0., -1.,  1., nan])"
      ]
     },
     "execution_count": 15,
     "metadata": {},
     "output_type": "execute_result"
    }
   ],
   "source": [
    "allqs.Resolution.unique()"
   ]
  },
  {
   "cell_type": "code",
   "execution_count": 16,
   "metadata": {},
   "outputs": [
    {
     "data": {
      "text/plain": [
       "(130606, 9)"
      ]
     },
     "execution_count": 16,
     "metadata": {},
     "output_type": "execute_result"
    }
   ],
   "source": [
    "allqs.shape"
   ]
  },
  {
   "cell_type": "code",
   "execution_count": 17,
   "metadata": {},
   "outputs": [],
   "source": [
    "allqs=allqs[allqs.Resolution!=-1.]"
   ]
  },
  {
   "cell_type": "code",
   "execution_count": 26,
   "metadata": {},
   "outputs": [
    {
     "data": {
      "text/html": [
       "<div>\n",
       "<style scoped>\n",
       "    .dataframe tbody tr th:only-of-type {\n",
       "        vertical-align: middle;\n",
       "    }\n",
       "\n",
       "    .dataframe tbody tr th {\n",
       "        vertical-align: top;\n",
       "    }\n",
       "\n",
       "    .dataframe thead th {\n",
       "        text-align: right;\n",
       "    }\n",
       "</style>\n",
       "<table border=\"1\" class=\"dataframe\">\n",
       "  <thead>\n",
       "    <tr style=\"text-align: right;\">\n",
       "      <th></th>\n",
       "      <th></th>\n",
       "      <th>Time</th>\n",
       "      <th>Variance</th>\n",
       "      <th>Mean</th>\n",
       "      <th>Median</th>\n",
       "      <th>Count</th>\n",
       "      <th>Final</th>\n",
       "      <th>QID</th>\n",
       "      <th>Resolve_Time</th>\n",
       "      <th>Resolution</th>\n",
       "      <th>horizon</th>\n",
       "    </tr>\n",
       "  </thead>\n",
       "  <tbody>\n",
       "    <tr>\n",
       "      <th rowspan=\"5\" valign=\"top\">1</th>\n",
       "      <th>0</th>\n",
       "      <td>2015-10-02 03:36:23.463465</td>\n",
       "      <td>0.0000</td>\n",
       "      <td>0.69</td>\n",
       "      <td>0.69</td>\n",
       "      <td>1.0</td>\n",
       "      <td>0.65</td>\n",
       "      <td>1</td>\n",
       "      <td>2016-02-01 03:34:00</td>\n",
       "      <td>0.0</td>\n",
       "      <td>121 days 23:57:36.536535</td>\n",
       "    </tr>\n",
       "    <tr>\n",
       "      <th>1</th>\n",
       "      <td>2015-11-03 21:35:14.195666</td>\n",
       "      <td>0.0009</td>\n",
       "      <td>0.72</td>\n",
       "      <td>0.75</td>\n",
       "      <td>2.0</td>\n",
       "      <td>0.65</td>\n",
       "      <td>1</td>\n",
       "      <td>2016-02-01 03:34:00</td>\n",
       "      <td>0.0</td>\n",
       "      <td>89 days 05:58:45.804334</td>\n",
       "    </tr>\n",
       "    <tr>\n",
       "      <th>2</th>\n",
       "      <td>2015-11-03 21:36:25.264527</td>\n",
       "      <td>0.0000</td>\n",
       "      <td>0.75</td>\n",
       "      <td>0.75</td>\n",
       "      <td>3.0</td>\n",
       "      <td>0.65</td>\n",
       "      <td>1</td>\n",
       "      <td>2016-02-01 03:34:00</td>\n",
       "      <td>0.0</td>\n",
       "      <td>89 days 05:57:34.735473</td>\n",
       "    </tr>\n",
       "    <tr>\n",
       "      <th>3</th>\n",
       "      <td>2015-11-04 02:19:20.937501</td>\n",
       "      <td>0.0882</td>\n",
       "      <td>0.54</td>\n",
       "      <td>0.75</td>\n",
       "      <td>4.0</td>\n",
       "      <td>0.65</td>\n",
       "      <td>1</td>\n",
       "      <td>2016-02-01 03:34:00</td>\n",
       "      <td>0.0</td>\n",
       "      <td>89 days 01:14:39.062499</td>\n",
       "    </tr>\n",
       "    <tr>\n",
       "      <th>4</th>\n",
       "      <td>2015-11-04 02:19:27.131253</td>\n",
       "      <td>0.0882</td>\n",
       "      <td>0.54</td>\n",
       "      <td>0.75</td>\n",
       "      <td>5.0</td>\n",
       "      <td>0.65</td>\n",
       "      <td>1</td>\n",
       "      <td>2016-02-01 03:34:00</td>\n",
       "      <td>0.0</td>\n",
       "      <td>89 days 01:14:32.868747</td>\n",
       "    </tr>\n",
       "  </tbody>\n",
       "</table>\n",
       "</div>"
      ],
      "text/plain": [
       "                          Time  Variance  Mean  Median  Count  Final  QID  \\\n",
       "1 0 2015-10-02 03:36:23.463465    0.0000  0.69    0.69    1.0   0.65    1   \n",
       "  1 2015-11-03 21:35:14.195666    0.0009  0.72    0.75    2.0   0.65    1   \n",
       "  2 2015-11-03 21:36:25.264527    0.0000  0.75    0.75    3.0   0.65    1   \n",
       "  3 2015-11-04 02:19:20.937501    0.0882  0.54    0.75    4.0   0.65    1   \n",
       "  4 2015-11-04 02:19:27.131253    0.0882  0.54    0.75    5.0   0.65    1   \n",
       "\n",
       "           Resolve_Time  Resolution                  horizon  \n",
       "1 0 2016-02-01 03:34:00         0.0 121 days 23:57:36.536535  \n",
       "  1 2016-02-01 03:34:00         0.0  89 days 05:58:45.804334  \n",
       "  2 2016-02-01 03:34:00         0.0  89 days 05:57:34.735473  \n",
       "  3 2016-02-01 03:34:00         0.0  89 days 01:14:39.062499  \n",
       "  4 2016-02-01 03:34:00         0.0  89 days 01:14:32.868747  "
      ]
     },
     "execution_count": 26,
     "metadata": {},
     "output_type": "execute_result"
    }
   ],
   "source": [
    "allqs.head()"
   ]
  },
  {
   "cell_type": "code",
   "execution_count": 24,
   "metadata": {},
   "outputs": [],
   "source": [
    "allqs.Resolve_Time=allqs.Resolve_Time.apply(lambda x: resolvetime(x))"
   ]
  },
  {
   "cell_type": "markdown",
   "metadata": {},
   "source": [
    "## Get question time horizons, get Brier scores, confidence etc, then produce calibration graphs"
   ]
  },
  {
   "cell_type": "code",
   "execution_count": 25,
   "metadata": {},
   "outputs": [],
   "source": [
    "allqs[\"horizon\"]=allqs.Resolve_Time-allqs.Time"
   ]
  },
  {
   "cell_type": "code",
   "execution_count": 30,
   "metadata": {},
   "outputs": [],
   "source": [
    "allqs[\"Brier\"]=(allqs[\"Resolution\"]-allqs[\"Median\"])*(allqs[\"Resolution\"]-allqs[\"Median\"])\n",
    "allqs[\"OutcomeP\"]=allqs[[\"Median\", \"Resolution\"]].apply(lambda x:  pofr(*x), axis=1)\n",
    "allqs[\"EBrier\"]=allqs.Median.apply(lambda x: EBrier(x))"
   ]
  },
  {
   "cell_type": "code",
   "execution_count": 39,
   "metadata": {
    "scrolled": false
   },
   "outputs": [
    {
     "name": "stdout",
     "output_type": "stream",
     "text": [
      "(45844, 13)\n",
      "0.15170444775558786\n",
      "0.1728197102194538\n",
      "-0.286750424699701\n",
      "0.16744864160189582\n",
      "0.1931986406950318\n",
      "-0.32997907789910763\n",
      "0.1689777584822764\n",
      "0.19237486898700282\n",
      "-0.30963635685223845\n"
     ]
    },
    {
     "data": {
      "text/plain": [
       "<AxesSubplot:title={'center':'Samples'}, xlabel='Predicted Frequency', ylabel='Count'>"
      ]
     },
     "execution_count": 39,
     "metadata": {},
     "output_type": "execute_result"
    },
    {
     "data": {
      "image/png": "[encoded data removed]",
      "text/plain": [
       "<Figure size 216x144 with 1 Axes>"
      ]
     },
     "metadata": {
      "needs_background": "light"
     },
     "output_type": "display_data"
    },
    {
     "data": {
      "image/png": "[encoded data removed]",
      "text/plain": [
       "<Figure size 216x144 with 1 Axes>"
      ]
     },
     "metadata": {
      "needs_background": "light"
     },
     "output_type": "display_data"
    },
    {
     "data": {
      "image/png": "[encoded data removed]",
      "text/plain": [
       "<Figure size 216x144 with 1 Axes>"
      ]
     },
     "metadata": {
      "needs_background": "light"
     },
     "output_type": "display_data"
    },
    {
     "data": {
      "image/png": "[encoded data removed]",
      "text/plain": [
       "<Figure size 216x144 with 1 Axes>"
      ]
     },
     "metadata": {
      "needs_background": "light"
     },
     "output_type": "display_data"
    },
    {
     "data": {
      "image/png": "[encoded data removed]",
      "text/plain": [
       "<Figure size 216x144 with 1 Axes>"
      ]
     },
     "metadata": {
      "needs_background": "light"
     },
     "output_type": "display_data"
    },
    {
     "data": {
      "image/png": "[encoded data removed]",
      "text/plain": [
       "<Figure size 216x144 with 1 Axes>"
      ]
     },
     "metadata": {
      "needs_background": "light"
     },
     "output_type": "display_data"
    }
   ],
   "source": [
    "l,k=1,0\n",
    "resqs=allqs[allqs.Resolution.apply(lambda x: x in [0.,1.])][allqs.horizon<pd.Timedelta(days=365*l)][allqs.horizon>pd.Timedelta(days=365*k)]\n",
    "resqs=resqs[resqs.Count>2.5]\n",
    "calibrations=dict()\n",
    "samplesize=dict()\n",
    "print(resqs.shape)\n",
    "print(np.mean(resqs.groupby(\"QID\").mean().Brier))\n",
    "print(np.mean(resqs.groupby(\"QID\").mean().EBrier))\n",
    "print(overconfidence(resqs.groupby(\"QID\").mean().OutcomeP))\n",
    "for i in range(10):\n",
    "    samplesize[round(i/10.0+.05,2)]=resqs[resqs.Median<((i+1.0)/10.0)][resqs.Median>(i/10.0)].groupby(\"QID\").mean().shape[0]\n",
    "    calibrations[round(i/10.0+.05,2)]=np.mean(resqs[resqs.Median<((i+1.0)/10.0)][resqs.Median>(i/10.0)].groupby(\"QID\").mean().Resolution)\n",
    "pd.DataFrame.from_dict(calibrations, orient=\"index\").plot(title=\"<1 year\",grid=True,marker='o', xticks=[0,.1,.2,.3,.4,.5,.6,.7,.8,.9,1],yticks=[0,.1,.2,.3,.4,.5,.6,.7,.8,.9,1],xlabel =\"Predicted Frequency\",ylabel =\"Realised Frequency\", legend=False)\n",
    "pd.DataFrame.from_dict(samplesize, orient=\"index\").plot(title=\"Samples\",kind=\"bar\",xlabel =\"Predicted Frequency\",ylabel =\"Count\", legend=False)\n",
    "\n",
    "l,k=2,1\n",
    "resqs=allqs[allqs.Resolution.apply(lambda x: x in [0.,1.])][allqs.horizon<pd.Timedelta(days=365*l)][allqs.horizon>pd.Timedelta(days=365*k)]\n",
    "resqs=resqs[resqs.Count>2.5]\n",
    "calibrations=dict()\n",
    "samplesize=dict()\n",
    "\n",
    "print(np.mean(resqs.groupby(\"QID\").mean().Brier))\n",
    "print(np.mean(resqs.groupby(\"QID\").mean().EBrier))\n",
    "\n",
    "print(overconfidence(resqs.groupby(\"QID\").mean().OutcomeP))\n",
    "for i in range(10):\n",
    "    samplesize[round(i/10.0+.05,2)]=resqs[resqs.Median<((i+1.0)/10.0)][resqs.Median>(i/10.0)].groupby(\"QID\").mean().shape[0]\n",
    "    calibrations[round(i/10.0+.05,2)]=np.mean(resqs[resqs.Median<((i+1.0)/10.0)][resqs.Median>(i/10.0)].groupby(\"QID\").mean().Resolution)\n",
    "pd.DataFrame.from_dict(calibrations, orient=\"index\").plot(title=\"1-2 years\",grid=True,marker='o', xticks=[0,.1,.2,.3,.4,.5,.6,.7,.8,.9,1],yticks=[0,.1,.2,.3,.4,.5,.6,.7,.8,.9,1],xlabel =\"Predicted Frequency\",ylabel =\"Realised Frequency\", legend=False)\n",
    "pd.DataFrame.from_dict(samplesize, orient=\"index\").plot(title=\"Samples\",kind=\"bar\",xlabel =\"Predicted Frequency\",ylabel =\"Count\", legend=False)\n",
    "\n",
    "l,k=5,2\n",
    "resqs=allqs[allqs.Resolution.apply(lambda x: x in [0.,1.])][allqs.horizon<pd.Timedelta(days=365*l)][allqs.horizon>pd.Timedelta(days=365*k)]\n",
    "resqs=resqs[resqs.Count>2.5]\n",
    "calibrations=dict()\n",
    "print(np.mean(resqs.groupby(\"QID\").mean().Brier))\n",
    "print(np.mean(resqs.groupby(\"QID\").mean().EBrier))\n",
    "\n",
    "print(overconfidence(resqs.groupby(\"QID\").mean().OutcomeP))\n",
    "samplesize=dict()\n",
    "\n",
    "for i in range(10):\n",
    "    df=resqs[resqs.Median<((i+1.0)/10.0)][resqs.Median>(i/10.0)].groupby(\"QID\").mean()\n",
    "    samplesize[round(i/10.0+.05,2)]=df.shape[0]\n",
    "    calibrations[round(i/10.0+.05,2)]=np.mean(df.Resolution)\n",
    "pd.DataFrame.from_dict(calibrations, orient=\"index\").plot(title=\"2+ years\",grid=True,marker='o', xticks=[0,.1,.2,.3,.4,.5,.6,.7,.8,.9,1],yticks=[0,.1,.2,.3,.4,.5,.6,.7,.8,.9,1],xlabel =\"Predicted Frequency\",ylabel =\"Realised Frequency\", legend=False)\n",
    "pd.DataFrame.from_dict(samplesize, orient=\"index\").plot(title=\"Samples\",kind=\"bar\", align='center',xlabel =\"Predicted Frequency\",ylabel =\"Count\", legend=False)"
   ]
  },
  {
   "cell_type": "code",
   "execution_count": null,
   "metadata": {},
   "outputs": [],
   "source": []
  }
 ],
 "metadata": {
  "kernelspec": {
   "display_name": "Python 3",
   "language": "python",
   "name": "python3"
  },
  "language_info": {
   "codemirror_mode": {
    "name": "ipython",
    "version": 3
   },
   "file_extension": ".py",
   "mimetype": "text/x-python",
   "name": "python",
   "nbconvert_exporter": "python",
   "pygments_lexer": "ipython3",
   "version": "3.8.5"
  }
 },
 "nbformat": 4,
 "nbformat_minor": 4
}
